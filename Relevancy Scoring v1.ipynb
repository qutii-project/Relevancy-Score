{
 "cells": [
  {
   "cell_type": "code",
   "execution_count": 25,
   "id": "a846d6dc",
   "metadata": {},
   "outputs": [],
   "source": [
    "import pandas as pd\n",
    "import numpy as np\n",
    "import string\n",
    "import scipy\n",
    "import sklearn\n",
    "import spacy\n",
    "import nltk\n",
    "import re\n",
    "import os"
   ]
  },
  {
   "cell_type": "code",
   "execution_count": 27,
   "id": "961728f0",
   "metadata": {},
   "outputs": [],
   "source": [
    "from nltk import word_tokenize\n",
    "from nltk.corpus import stopwords\n",
    "from sklearn.metrics.pairwise import cosine_similarity\n",
    "from sentence_transformers import SentenceTransformer, util"
   ]
  },
  {
   "cell_type": "code",
   "execution_count": 28,
   "id": "253ecb97",
   "metadata": {},
   "outputs": [],
   "source": [
    "df_corpus = pd.read_csv(r\"C:\\Users\\RedHat\\Downloads\\Tiiqu\\updated_combined_dfprep.csv\")\n",
    "df_subtopic = pd.read_csv(r\"C:\\Users\\RedHat\\Downloads\\Tiiqu\\combined_subtopic_df.csv\")"
   ]
  },
  {
   "cell_type": "code",
   "execution_count": 29,
   "id": "b4506010",
   "metadata": {},
   "outputs": [],
   "source": [
    "# Parse JSON strings back into lists\n",
    "df_corpus['QA_prep_vector'] = df_corpus['QA_prep_vector'].apply(json.loads)\n",
    "df_subtopic['Subtopic_vector'] = df_subtopic['Subtopic_vector'].apply(json.loads)\n"
   ]
  },
  {
   "cell_type": "code",
   "execution_count": null,
   "id": "5ea89d7a",
   "metadata": {},
   "outputs": [],
   "source": []
  },
  {
   "cell_type": "code",
   "execution_count": 35,
   "id": "365c4aa3",
   "metadata": {},
   "outputs": [],
   "source": [
    "from sklearn.metrics.pairwise import cosine_similarity\n",
    "\n",
    "def get_relevancy_score(qna_index, qna_df, subtopic_df):\n",
    "    \n",
    "    # Extract the QnA embedding\n",
    "    qna_embedding = qna_df.loc[qna_index, 'QA_prep_vector']\n",
    "    \n",
    "    # Extract the subtopic name associated with the QnA pair\n",
    "    subtopic_name = qna_df.loc[qna_index, 'Assigned Subtopic(Prep)']\n",
    "    \n",
    "    # Find the corresponding subtopic embedding from the subtopic DataFrame\n",
    "    subtopic_embedding = subtopic_df[subtopic_df['Subtopic Name'] == subtopic_name]['Subtopic_vector'].values[0]\n",
    "    \n",
    "    # Compute cosine similarity between the subtopic and the QnA pair embeddings\n",
    "    relevancy = cosine_similarity([subtopic_embedding], [qna_embedding])[0][0]\n",
    "    \n",
    "    return relevancy\n"
   ]
  },
  {
   "cell_type": "code",
   "execution_count": 40,
   "id": "81309438",
   "metadata": {},
   "outputs": [
    {
     "data": {
      "text/plain": [
       "0.8546076569384637"
      ]
     },
     "execution_count": 40,
     "metadata": {},
     "output_type": "execute_result"
    }
   ],
   "source": [
    "qna_index = 900\n",
    "Relevancy_score = get_relevancy_score(qna_index, df_corpus, df_subtopic)\n",
    "Relevancy_score"
   ]
  },
  {
   "cell_type": "code",
   "execution_count": 44,
   "id": "0d63a2ae",
   "metadata": {},
   "outputs": [
    {
     "data": {
      "text/plain": [
       "Unnamed: 0                                                               900\n",
       "Question                   How did adjusting the capacity control paramet...\n",
       "Answer                     Adjusting the capacity control parameters led ...\n",
       "Label                                                               Analysis\n",
       "Source Title                                                             NaN\n",
       "Source Url                                                               NaN\n",
       "Source Author                                                            NaN\n",
       "QA                         How did adjusting the capacity control paramet...\n",
       "QA_prep                    adjusting capacity control parameters affect n...\n",
       "combined_QA_vector         [-0.02347447 -0.01158676  0.05944521  0.033672...\n",
       "QA_prep_vector             [-0.01641766168177128, -0.008326810784637928, ...\n",
       "Assigned Subtopic                                                        NaN\n",
       "Assigned Subtopic(Prep)                            Centralized light control\n",
       "Topic_Name                                             Smart street lighting\n",
       "Macrotopic_Name                                                 Smart cities\n",
       "Name: 900, dtype: object"
      ]
     },
     "execution_count": 44,
     "metadata": {},
     "output_type": "execute_result"
    }
   ],
   "source": [
    "df_corpus.iloc[qna_index]"
   ]
  },
  {
   "cell_type": "code",
   "execution_count": null,
   "id": "e2cfccf7",
   "metadata": {},
   "outputs": [],
   "source": []
  }
 ],
 "metadata": {
  "kernelspec": {
   "display_name": "Python 3 (ipykernel)",
   "language": "python",
   "name": "python3"
  },
  "language_info": {
   "codemirror_mode": {
    "name": "ipython",
    "version": 3
   },
   "file_extension": ".py",
   "mimetype": "text/x-python",
   "name": "python",
   "nbconvert_exporter": "python",
   "pygments_lexer": "ipython3",
   "version": "3.9.13"
  }
 },
 "nbformat": 4,
 "nbformat_minor": 5
}
